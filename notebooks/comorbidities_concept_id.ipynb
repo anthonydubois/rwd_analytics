{
 "cells": [
  {
   "cell_type": "code",
   "execution_count": 1,
   "metadata": {},
   "outputs": [],
   "source": [
    "import pandas as pd\n",
    "import numpy as np\n",
    "import math\n",
    "import re"
   ]
  },
  {
   "cell_type": "code",
   "execution_count": 2,
   "metadata": {},
   "outputs": [
    {
     "name": "stderr",
     "output_type": "stream",
     "text": [
      "/Users/anthonydubois/opt/anaconda3/lib/python3.7/site-packages/IPython/core/interactiveshell.py:3058: DtypeWarning: Columns (6) have mixed types. Specify dtype option on import or set low_memory=False.\n",
      "  interactivity=interactivity, compiler=compiler, result=result)\n"
     ]
    }
   ],
   "source": [
    "icd = pd.read_csv('../webapp/database/omop_vocabulary/icd/CONCEPT.csv',\n",
    "                  sep='\\t', usecols=['concept_id', 'concept_code', 'vocabulary_id'])\n",
    "icd_relationship = pd.read_csv('../webapp/database/omop_vocabulary/icd/CONCEPT_RELATIONSHIP.csv',\n",
    "                               sep='\\t', usecols=['concept_id_1', 'concept_id_2', 'relationship_id'])\n",
    "icd_relationship = icd_relationship[icd_relationship['relationship_id']=='Subsumes']\n",
    "\n",
    "commorbidities_raw = pd.read_excel(\"commorbidities.xlsx\")\n",
    "commorbidities_raw = commorbidities_raw.rename(columns={\n",
    "    'Commorbidities':'commorbidities',\n",
    "    'Elixhauser’s original ICD-9-CM':'icd9_1',\n",
    "    'Elixhauser AHRQWeb ICD-9-CM':'icd9_2',\n",
    "    'Enhanced ICD-9-CM':'icd9_3',\n",
    "    'ICD-10':'icd10'\n",
    "})"
   ]
  },
  {
   "cell_type": "code",
   "execution_count": 3,
   "metadata": {},
   "outputs": [],
   "source": [
    "def get_concept_subsumes(concept_code, vocabulary_id, relationship='itself'):\n",
    "    t = icd[(icd['concept_code']==concept_code) & (icd['vocabulary_id']==vocabulary_id)]\n",
    "\n",
    "    if len(t) > 0:\n",
    "        concept_id = t.iloc[0]['concept_id']\n",
    "        subsumes = icd_relationship[icd_relationship['concept_id_1']==concept_id].concept_id_2.tolist()\n",
    "        return [concept_id] + subsumes\n",
    "    return []\n"
   ]
  },
  {
   "cell_type": "code",
   "execution_count": 4,
   "metadata": {},
   "outputs": [],
   "source": [
    "com = pd.DataFrame()\n",
    "\n",
    "for i in range(len(commorbidities_raw)):\n",
    "    l1 = []\n",
    "    l2 = []\n",
    "    for col in ['icd9_1', 'icd9_2', 'icd9_3']:\n",
    "        raw = str(commorbidities_raw[col][i])\n",
    "        if raw == 'nan':\n",
    "            continue\n",
    "        raw = raw.replace('\\n', '') # Remove some characters\n",
    "        raw = raw.replace(' ', '') # Remove space\n",
    "        l1 = l1 + raw.split(',')\n",
    "        l1 = list(dict.fromkeys(l1)) # Remove duplicates\n",
    "        \n",
    "    raw = str(commorbidities_raw['icd10'][i])\n",
    "    if raw == 'nan':\n",
    "        continue\n",
    "    raw = raw.replace('\\n', '') # Remove some characters\n",
    "    raw = raw.replace(' ', '') # Remove space\n",
    "    l2 = raw.split(',')\n",
    "    l2 = list(dict.fromkeys(l2)) # Remove duplicates\n",
    "        \n",
    "    df = pd.DataFrame({\n",
    "        'COMMORBIDITIES':[commorbidities_raw['commorbidities'][i]],\n",
    "        'ICD9CM':[l1],\n",
    "        'ICD10':[l2],\n",
    "        'CONCEPT_ID':[[np.nan]]\n",
    "    })\n",
    "    com = com.append(df, ignore_index=True)\n",
    "    \n",
    "for i in range(len(com)):\n",
    "    l = []\n",
    "    for vocabulary in ['ICD9CM', 'ICD10']:\n",
    "        for element in com[vocabulary][i]:\n",
    "            if '-' in element:\n",
    "                p = element.replace('x', '')\n",
    "                a = p.split('-')\n",
    "                if a[0][0].isalpha():\n",
    "                    q = a[0][0]\n",
    "                else:\n",
    "                    q = ''\n",
    "                b = [re.sub(r'[A-Z]+', '', s) for s in a]\n",
    "                c = round(float(b[1]) - float(b[0]), 6)*100\n",
    "                if c %10 == 0:\n",
    "                    c = c/10\n",
    "                c = round(c, 6)\n",
    "                d = [q + str(round(i, 6)) + 'x' for i in np.linspace(float(b[0]), float(b[1]), c+1)]\n",
    "                for a in d:\n",
    "                    z = a.replace('.x', '')\n",
    "                    z = z.replace('x', '')\n",
    "                    l = l + get_concept_subsumes(z, vocabulary)\n",
    "                continue\n",
    "            \n",
    "            elif 'x' in element:\n",
    "                a = element.replace('.x', '')\n",
    "                a = a.replace('x', '')\n",
    "                l = l + get_concept_subsumes(a, vocabulary)\n",
    "                \n",
    "            else:\n",
    "                l = l + get_concept_subsumes(element, vocabulary)\n",
    "                \n",
    "    l = list(dict.fromkeys(l)) # Remove duplicates\n",
    "    com.at[i, 'CONCEPT_ID'] = l"
   ]
  },
  {
   "cell_type": "code",
   "execution_count": 7,
   "metadata": {},
   "outputs": [],
   "source": [
    "com[['COMMORBIDITIES', 'CONCEPT_ID']].to_csv('commorbidities_magic.csv', index=False)"
   ]
  },
  {
   "cell_type": "code",
   "execution_count": 5,
   "metadata": {},
   "outputs": [
    {
     "name": "stdout",
     "output_type": "stream",
     "text": [
      "Congestive heart failure\n",
      "55\n",
      "Cardiac arrhythmias\n",
      "72\n",
      "Valvular disease\n",
      "68\n",
      "Pulmonary circulation Disorders\n",
      "27\n",
      "Peripheral vascular disorders\n",
      "88\n",
      "Hypertension,uncomplicated\n",
      "11\n",
      "Hypertension,complicated\n",
      "78\n",
      "Paralysis\n",
      "86\n",
      "Other neurological disorders\n",
      "143\n",
      "Chronic pulmonary disease\n",
      "82\n",
      "Diabetes,uncomplicated\n",
      "41\n",
      "Diabetes,complicated\n",
      "66\n",
      "Hypothyroidism\n",
      "12\n",
      "Renal failure\n",
      "47\n",
      "Liver disease\n",
      "79\n",
      "Peptic ulcer disease excluding bleeding\n",
      "45\n",
      "Lymphoma\n",
      "328\n",
      "Metastatic cancer\n",
      "58\n",
      "Solid tumor without metastasis\n",
      "602\n",
      "Rheumatoid arthritis/collagen vascular diseases\n",
      "376\n",
      "Coagulopathy\n",
      "30\n",
      "Obesity\n",
      "11\n",
      "Weight loss\n",
      "9\n",
      "Fluid and electrolyte disorders\n",
      "29\n",
      "Blood loss anemia\n",
      "8\n",
      "Deficiency anemia\n",
      "29\n",
      "Drug abuse\n",
      "187\n",
      "Psychoses\n",
      "185\n",
      "Depression\n",
      "67\n",
      "Alcohol abuse\n",
      "72\n",
      "AIDS/H1V\n",
      "19\n"
     ]
    }
   ],
   "source": [
    "for index, row in com.iterrows():\n",
    "    print(row['COMMORBIDITIES'])\n",
    "    print(len(row['CONCEPT_ID']))"
   ]
  },
  {
   "cell_type": "code",
   "execution_count": null,
   "metadata": {},
   "outputs": [],
   "source": []
  }
 ],
 "metadata": {
  "kernelspec": {
   "display_name": "Python 3",
   "language": "python",
   "name": "python3"
  },
  "language_info": {
   "codemirror_mode": {
    "name": "ipython",
    "version": 3
   },
   "file_extension": ".py",
   "mimetype": "text/x-python",
   "name": "python",
   "nbconvert_exporter": "python",
   "pygments_lexer": "ipython3",
   "version": "3.7.4"
  }
 },
 "nbformat": 4,
 "nbformat_minor": 2
}
