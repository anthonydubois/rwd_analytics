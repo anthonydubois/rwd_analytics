{
 "cells": [
  {
   "cell_type": "code",
   "execution_count": 1,
   "metadata": {},
   "outputs": [],
   "source": [
    "import os"
   ]
  },
  {
   "cell_type": "code",
   "execution_count": 2,
   "metadata": {},
   "outputs": [],
   "source": [
    "os.chdir('../')"
   ]
  },
  {
   "cell_type": "code",
   "execution_count": null,
   "metadata": {},
   "outputs": [],
   "source": []
  },
  {
   "cell_type": "code",
   "execution_count": null,
   "metadata": {},
   "outputs": [],
   "source": []
  },
  {
   "cell_type": "code",
   "execution_count": null,
   "metadata": {},
   "outputs": [],
   "source": []
  },
  {
   "cell_type": "code",
   "execution_count": null,
   "metadata": {},
   "outputs": [],
   "source": [
    "def TimeAtRisk(X, cohort, time_at_risk = 0):\n",
    "    target_cohort = cohort[cohort['cohort_definition_id']==1]\n",
    "    outcome_cohort = cohort[cohort['cohort_definition_id']==2]\n",
    "    cohort_at_risk = target_cohort.merge(outcome_cohort, how='inner', on='subject_id')\n",
    "    if time_at_risk != 0:\n",
    "        cohort_at_risk['time_to_event'] = cohort_at_risk['cohort_start_date_y'] \\\n",
    "                                          - cohort_at_risk['cohort_start_date_x']\n",
    "        cohort_at_risk = cohort_at_risk[cohort_at_risk['time_to_event'].dt.days < time_at_risk]\n",
    "    cohort_at_risk = cohort_at_risk.subject_id.unique().tolist()\n",
    "    print('Subject at risk:'+ str(len(cohort_at_risk)))\n",
    "    X['target'] = 1\n",
    "    X['target'] = X['target'].where(X['person_id'].isin(cohort_at_risk), 0)\n",
    "    print('Number of patients in final X: '+str(len(X)))\n",
    "    return X"
   ]
  },
  {
   "cell_type": "code",
   "execution_count": null,
   "metadata": {},
   "outputs": [],
   "source": [
    "class PredictionModels():\n",
    "    def __init__(self, df):\n",
    "        a = df[df['target']==1]\n",
    "        b = df[df['target']==0]\n",
    "        print('Subjects in target=1: '+str(len(a)))\n",
    "        print('Subjects in target=0: '+str(len(b)))\n",
    "        \n",
    "        X = df.drop('target', axis=1)\n",
    "        y = df['target']\n",
    "        X_train, X_test, y_train, y_test = train_test_split(X, y, random_state=1, test_size=0.25)\n",
    "        \n",
    "        self.X_train = X_train\n",
    "        self.X_test = X_test\n",
    "        self.y_train = y_train\n",
    "        self.y_test = y_test\n",
    "        \n",
    "        #if (len(a)+len(b))/20 < abs(len(b)-len(a)):\n",
    "        #    print('Imbalanced dataset: resampling train set')\n",
    "        #    print('************************************')\n",
    "        #    c = math.trunc((max(len(a), len(b)) + min(len(a), len(b)))/2)\n",
    "        #    a = self.X_train.sample(n=c, replace=True, random_state=3)\n",
    "        #    b = self.y_train.sample(n=c, replace=True, random_state=3)\n",
    "        #    df = pd.concat([a, b], ignore_index=True)\n",
    "\n",
    "    def __call__(self):\n",
    "        classifiers = [\n",
    "            DummyClassifier(strategy='most_frequent', random_state=0),\n",
    "            KNeighborsClassifier(3),\n",
    "            SVC(kernel=\"rbf\", C=0.025, probability=True),\n",
    "            #NuSVC(probability=True),\n",
    "            DecisionTreeClassifier(),\n",
    "            RandomForestClassifier(),\n",
    "            AdaBoostClassifier(),\n",
    "            GradientBoostingClassifier()\n",
    "            ]\n",
    "\n",
    "        for classifier in classifiers:\n",
    "            model = classifier.fit(self.X_train, self.y_train)\n",
    "            y_pred = model.predict(self.X_test)\n",
    "            print(classifier)\n",
    "            print(\"Training score: %.3f\" % model.score(self.X_train, self.y_train))\n",
    "            print(\"Test score: %.3f\" % accuracy_score(self.y_test, y_pred))\n",
    "            print('*** Confusion matrix ***')\n",
    "            print(confusion_matrix(self.y_test, y_pred))\n",
    "            print('*** Classification report ***')\n",
    "            print(classification_report(self.y_test, y_pred))\n",
    "            print('************************************')\n"
   ]
  }
 ],
 "metadata": {
  "kernelspec": {
   "display_name": "Python 3",
   "language": "python",
   "name": "python3"
  },
  "language_info": {
   "codemirror_mode": {
    "name": "ipython",
    "version": 3
   },
   "file_extension": ".py",
   "mimetype": "text/x-python",
   "name": "python",
   "nbconvert_exporter": "python",
   "pygments_lexer": "ipython3",
   "version": "3.7.4"
  }
 },
 "nbformat": 4,
 "nbformat_minor": 2
}
