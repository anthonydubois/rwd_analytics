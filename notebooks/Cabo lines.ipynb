{
 "cells": [
  {
   "cell_type": "code",
   "execution_count": 1,
   "metadata": {},
   "outputs": [],
   "source": [
    "import pandas as pd"
   ]
  },
  {
   "cell_type": "code",
   "execution_count": 71,
   "metadata": {},
   "outputs": [],
   "source": [
    "lot = pd.read_csv('../../../../Downloads/lot.csv')\n",
    "lot = lot[['person_id', 'start_date', 'line_number', 'regimen_codes_sorted', 'end_date']]\n",
    "lot['end_date'] = pd.to_datetime(lot['end_date'])\n",
    "lot['start_date'] = pd.to_datetime(lot['start_date'])\n",
    "lot['treatment_duration'] = (lot['end_date'] - lot['start_date']).dt.days\n",
    "lot['censor'] = lot['end_date'].apply(lambda x:1 if x < pd.to_datetime('2018-11-01', format = '%Y-%m-%d') else 0)\n",
    "io_agents = lot.regimen_codes_sorted.unique().tolist()\n",
    "nivolumab = [s for s in io_agents if \"nivolumab\" in s.lower()]\n",
    "ipilimumab = [s for s in io_agents if \"ipilimumab\" in s.lower()]\n",
    "bevacizumab = [s for s in io_agents if \"bevacizumab\" in s.lower()]\n",
    "avelumab = [s for s in io_agents if \"avelumab\" in s.lower()]\n",
    "pembrolizumab = [s for s in io_agents if \"pembrolizumab\" in s.lower()]\n",
    "io_agents = nivolumab + ipilimumab + bevacizumab + pembrolizumab + avelumab\n",
    "lot['io_agents'] = lot['regimen_codes_sorted'].apply(lambda x:'IO' if x in io_agents else 'NON IO')\n",
    "lot1 = lot[lot['line_number']==1][['person_id', 'regimen_codes_sorted', 'censor', 'treatment_duration', 'io_agents']]\n",
    "lot2 = lot[lot['line_number']==2][['person_id', 'regimen_codes_sorted', 'censor', 'treatment_duration', 'io_agents']]\n",
    "t = lot1.merge(lot2, how='left', on='person_id')\n",
    "t['regimen_codes_sorted_y'] = t['regimen_codes_sorted_y'].fillna('No 2L')\n",
    "t = t[t['regimen_codes_sorted_y']=='cabozantinib']"
   ]
  },
  {
   "cell_type": "code",
   "execution_count": 64,
   "metadata": {},
   "outputs": [
    {
     "name": "stdout",
     "output_type": "stream",
     "text": [
      "Populating the interactive namespace from numpy and matplotlib\n"
     ]
    }
   ],
   "source": [
    "from lifelines import KaplanMeierFitter\n",
    "from lifelines.plotting import plot_lifetimes\n",
    "\n",
    "from matplotlib import pyplot as plt\n",
    "%matplotlib inline\n",
    "%pylab inline"
   ]
  },
  {
   "cell_type": "code",
   "execution_count": 65,
   "metadata": {},
   "outputs": [],
   "source": [
    "figsize(12,8)"
   ]
  },
  {
   "cell_type": "code",
   "execution_count": 72,
   "metadata": {},
   "outputs": [
    {
     "data": {
      "text/plain": [
       "<matplotlib.axes._subplots.AxesSubplot at 0x1a20db9490>"
      ]
     },
     "execution_count": 72,
     "metadata": {},
     "output_type": "execute_result"
    },
    {
     "data": {
      "image/png": "[encoded data removed]",
      "text/plain": [
       "<Figure size 864x576 with 1 Axes>"
      ]
     },
     "metadata": {
      "needs_background": "light"
     },
     "output_type": "display_data"
    }
   ],
   "source": [
    "kmf1 = KaplanMeierFitter() ## instantiate the class to create an object\n",
    "\n",
    "groups = t['io_agents_x']   \n",
    "i1 = (groups == 'NON IO')\n",
    "i2 = (groups == 'IO')\n",
    "T = t['treatment_duration_y']\n",
    "E = t['censor_y']\n",
    "\n",
    "## fit the model for 1st cohort\n",
    "kmf1.fit(T[i1], E[i1], label='NON IO')\n",
    "a1 = kmf1.plot()\n",
    "\n",
    "## fit the model for 2nd cohort\n",
    "kmf1.fit(T[i2], E[i2], label='IO')\n",
    "kmf1.plot(ax=a1)"
   ]
  },
  {
   "cell_type": "code",
   "execution_count": null,
   "metadata": {},
   "outputs": [],
   "source": []
  }
 ],
 "metadata": {
  "kernelspec": {
   "display_name": "Python 3",
   "language": "python",
   "name": "python3"
  },
  "language_info": {
   "codemirror_mode": {
    "name": "ipython",
    "version": 3
   },
   "file_extension": ".py",
   "mimetype": "text/x-python",
   "name": "python",
   "nbconvert_exporter": "python",
   "pygments_lexer": "ipython3",
   "version": "3.7.4"
  }
 },
 "nbformat": 4,
 "nbformat_minor": 2
}
