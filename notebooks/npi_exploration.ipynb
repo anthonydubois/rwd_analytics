{
 "cells": [
  {
   "cell_type": "code",
   "execution_count": null,
   "metadata": {},
   "outputs": [],
   "source": [
    "import pandas as pd"
   ]
  },
  {
   "cell_type": "code",
   "execution_count": null,
   "metadata": {},
   "outputs": [],
   "source": [
    "npi = pd.read_csv('/ipsenhealthdata/npi/npidata_pfile_20050523-20191211.csv',\n",
    "                  usecols=[\n",
    "                      'NPI', 'Entity Type Code',\n",
    "                      'Healthcare Provider Taxonomy Code_1', 'Provider Last Name (Legal Name)',\n",
    "                      'Provider First Name', 'Provider Organization Name (Legal Business Name)',\n",
    "                      'Provider First Line Business Practice Location Address',\n",
    "                      'Provider Second Line Business Practice Location Address',\n",
    "                      'Provider Business Practice Location Address City Name',\n",
    "                      'Provider Business Practice Location Address State Name',\n",
    "                      'Provider Business Practice Location Address Postal Code',\n",
    "                      'Provider Business Practice Location Address Country Code (If outside U.S.)',\n",
    "                      'Provider Business Practice Location Address Telephone Number'\n",
    "                  ],\n",
    "                  dtype={\n",
    "                      'NPI':int,\n",
    "                      'Entity Type Code':float,\n",
    "                      'Healthcare Provider Taxonomy Code_1':str,\n",
    "                      'Provider Last Name (Legal Name)':str,\n",
    "                      'Provider First Name':str,\n",
    "                      'Provider Organization Name (Legal Business Name)':str,\n",
    "                      'Provider First Line Business Practice Location Address':str,\n",
    "                      'Provider Second Line Business Practice Location Address':str,\n",
    "                      'Provider Business Practice Location Address City Name':str,\n",
    "                      'Provider Business Practice Location Address State Name':str,\n",
    "                      'Provider Business Practice Location Address Postal Code':str,\n",
    "                      'Provider Business Practice Location Address Telephone Number':str\n",
    "                  },\n",
    "                  sep=',')\n",
    "npi = npi.rename(columns={\n",
    "    'NPI':'npi',\n",
    "    'Entity Type Code':'entity_type',\n",
    "    'Healthcare Provider Taxonomy Code_1':'specialty_source_value',\n",
    "    'Provider Last Name (Legal Name)':'last_name',\n",
    "    'Provider First Name':'first_name',\n",
    "    'Provider Organization Name (Legal Business Name)':'organization_name',\n",
    "    'Provider First Line Business Practice Location Address':'address_1',\n",
    "    'Provider Second Line Business Practice Location Address':'address_2',\n",
    "    'Provider Business Practice Location Address City Name':'city',\n",
    "    'Provider Business Practice Location Address State Name':'state',\n",
    "    'Provider Business Practice Location Address Postal Code':'postal_code',\n",
    "    'Provider Business Practice Location Address Country Code (If outside U.S.)':'country',\n",
    "    'Provider Business Practice Location Address Telephone Number':'phone'\n",
    "})\n",
    "concept = pd.read_csv('s3://ipsenhealthdata/dev/anthony/physician_specialties/CONCEPT.csv',\n",
    "                      sep='\\t',\n",
    "                      usecols=['concept_code', 'concept_id'])\n",
    "npi = npi.merge(concept,\n",
    "                how='left',\n",
    "                left_on='specialty_source_value',\n",
    "                right_on='concept_code')\n",
    "del npi['specialty_source_value']\n",
    "del npi['concept_code']\n",
    "npi['concept_id'] = npi['concept_id'].fillna(0).astype(int)\n",
    "concept_relationship = pd.read_csv('s3://ipsenhealthdata/dev/anthony/physician_specialties/CONCEPT_RELATIONSHIP.csv',\n",
    "                      sep='\\t', usecols=['concept_id_1', 'concept_id_2', 'relationship_id'])\n",
    "concept_relationship = concept_relationship[concept_relationship['relationship_id']=='Maps to']\n",
    "npi = npi.merge(concept_relationship[['concept_id_1', 'concept_id_2']],\n",
    "                how='left', left_on='concept_id', right_on='concept_id_1')\n",
    "del npi['concept_id']\n",
    "del npi['concept_id_1']\n",
    "npi['concept_id_2'] = npi['concept_id_2'].fillna(0).astype(int)\n",
    "npi = npi.rename(columns={'concept_id_2':'specialty_concept_id'})\n",
    "npi = npi.drop_duplicates()\n",
    "npi['npi'] = npi['npi'].astype(float)"
   ]
  }
 ],
 "metadata": {
  "kernelspec": {
   "display_name": "Python 3",
   "language": "python",
   "name": "python3"
  },
  "language_info": {
   "codemirror_mode": {
    "name": "ipython",
    "version": 3
   },
   "file_extension": ".py",
   "mimetype": "text/x-python",
   "name": "python",
   "nbconvert_exporter": "python",
   "pygments_lexer": "ipython3",
   "version": "3.7.4"
  }
 },
 "nbformat": 4,
 "nbformat_minor": 2
}
